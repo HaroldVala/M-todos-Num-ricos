{
 "cells": [
  {
   "cell_type": "markdown",
   "metadata": {},
   "source": [
    "# Liberias "
   ]
  },
  {
   "cell_type": "code",
   "execution_count": 30,
   "metadata": {},
   "outputs": [],
   "source": [
    "import numpy as np\n",
    "import pandas as pd"
   ]
  },
  {
   "cell_type": "markdown",
   "metadata": {},
   "source": [
    "# Operaciones"
   ]
  },
  {
   "cell_type": "code",
   "execution_count": 32,
   "metadata": {},
   "outputs": [],
   "source": [
    "#Matriz inicial\n",
    "A = np.array([[5, -4],\n",
    "              [-4, 1]])\n",
    "\n",
    "#Vector Inicial\n",
    "V_0 = np.array([[1],\n",
    "                [1]])\n",
    "\n",
    "#Iteraciones\n",
    "n = 7 #Python cuenta desde 0\n",
    "iteraciones = range(1,n)\n",
    "\n",
    "# Iteraciones para potencias negativas\n",
    "iteraciones_pq = range(-1, -n, -1)  # Esto generará una secuencia de -1 a -n"
   ]
  },
  {
   "cell_type": "code",
   "execution_count": 33,
   "metadata": {},
   "outputs": [],
   "source": [
    "#Matriz inicial\n",
    "A = np.array([[0.6, 0.3, 0.1],\n",
    "              [0.3, 0.5, 0.4],\n",
    "              [0.1, 0.2, 0.5]])\n",
    "\n",
    "#Vector Inicial\n",
    "V_0 = np.array([[0.6],\n",
    "                [0.2],\n",
    "                [0.2]])\n",
    "\n",
    "#Iteraciones\n",
    "n = 11 #Python cuenta desde 0\n",
    "iteraciones = range(1,n)\n",
    "\n",
    "# Iteraciones para potencias negativas\n",
    "iteraciones_pq = range(-1, -n, -1)  # Esto generará una secuencia de -1 a -6"
   ]
  },
  {
   "cell_type": "markdown",
   "metadata": {},
   "source": [
    "# Tabla para encontrar Maximo"
   ]
  },
  {
   "cell_type": "code",
   "execution_count": 34,
   "metadata": {},
   "outputs": [],
   "source": [
    "# Crear un DataFrame vacío para almacenar los resultados\n",
    "matriz_simetrica_df = pd.DataFrame(columns=['i', 'Vi'])"
   ]
  },
  {
   "cell_type": "code",
   "execution_count": 35,
   "metadata": {},
   "outputs": [],
   "source": [
    "for i in iteraciones:\n",
    "    # Elevar la matriz A a la i-ésima potencia\n",
    "    A_i = np.linalg.matrix_power(A, i)\n",
    "    \n",
    "    # Multiplicar la matriz elevada por el vector V_0\n",
    "    resultado = A_i @ V_0\n",
    "    \n",
    "\n",
    "    # Redondear el resultado a 4 decimales y convertirlo a una lista\n",
    "    resultado_redondeado = np.round(resultado.flatten(), 4).tolist()\n",
    "    \n",
    "    # Agregar el resultado al DataFrame\n",
    "    matriz_simetrica_df.loc[i-1] = [i, resultado_redondeado]"
   ]
  },
  {
   "cell_type": "markdown",
   "metadata": {},
   "source": [
    "## Calcular la norma o la magnitud"
   ]
  },
  {
   "cell_type": "markdown",
   "metadata": {},
   "source": [
    "**square** se usa para elevar un numero al cuadrado\n",
    "\n",
    "**sqrt** Se usa para sacar raiz"
   ]
  },
  {
   "cell_type": "code",
   "execution_count": 36,
   "metadata": {},
   "outputs": [],
   "source": [
    "#Función para calcular la norma de un vector\n",
    "def calcular_norma(vector):\n",
    "    return np.sqrt(np.sum(np.square(vector)))\n",
    "\n",
    "# Aplicar la función a cada elemento de la columna \"Vi\" y crear la nueva columna \"||Vi||\"\n",
    "matriz_simetrica_df['||Vi||'] = matriz_simetrica_df['Vi'].apply(calcular_norma)"
   ]
  },
  {
   "cell_type": "markdown",
   "metadata": {},
   "source": [
    "## Relación entre las normas de dos vectores consecutivos"
   ]
  },
  {
   "cell_type": "code",
   "execution_count": 37,
   "metadata": {},
   "outputs": [],
   "source": [
    "matriz_simetrica_df[\"||Vi||/||Vi-1||\"] = matriz_simetrica_df['||Vi||'].div(matriz_simetrica_df['||Vi||'].shift(1))"
   ]
  },
  {
   "cell_type": "markdown",
   "metadata": {},
   "source": [
    "# Valor propio mas pequeño"
   ]
  },
  {
   "cell_type": "code",
   "execution_count": 38,
   "metadata": {},
   "outputs": [],
   "source": [
    "# DataFrame para almacenar los resultados\n",
    "matriz_simetrica_pq_df = pd.DataFrame(columns=['i', 'Vi'])\n",
    "\n",
    "# Bucle para calcular A elevado a la i-ésima potencia negativa y multiplicarlo por V_0\n",
    "for i in iteraciones_pq:\n",
    "    # Elevar la matriz A a la i-ésima potencia negativa\n",
    "    A_i = np.linalg.matrix_power(A, i)\n",
    "    \n",
    "    # Multiplicar la matriz elevada por el vector V_0\n",
    "    resultado = A_i @ V_0\n",
    "    \n",
    "    # Redondear el resultado a 4 decimales y convertirlo a una lista\n",
    "    resultado_redondeado = np.round(resultado.flatten(), 4).tolist()\n",
    "    \n",
    "    # Agregar el resultado al DataFrame\n",
    "    matriz_simetrica_pq_df.loc[-i] = [-i, resultado_redondeado]"
   ]
  },
  {
   "cell_type": "markdown",
   "metadata": {},
   "source": [
    "## Norma o Magnitud"
   ]
  },
  {
   "cell_type": "code",
   "execution_count": 39,
   "metadata": {},
   "outputs": [],
   "source": [
    "#Función para calcular la norma de un vector\n",
    "def calcular_norma(vector):\n",
    "    return np.sqrt(np.sum(np.square(vector)))\n",
    "\n",
    "# Aplicar la función a cada elemento de la columna \"Vi\" y crear la nueva columna \"||Vi||\"\n",
    "matriz_simetrica_pq_df['||Vi||'] = matriz_simetrica_pq_df['Vi'].apply(calcular_norma)"
   ]
  },
  {
   "cell_type": "markdown",
   "metadata": {},
   "source": [
    "## Relacion"
   ]
  },
  {
   "cell_type": "code",
   "execution_count": 40,
   "metadata": {},
   "outputs": [],
   "source": [
    "matriz_simetrica_pq_df[\"||Vi||/||Vi-1||\"] = matriz_simetrica_pq_df['||Vi||'].div(matriz_simetrica_pq_df['||Vi||'].shift(1))"
   ]
  },
  {
   "cell_type": "markdown",
   "metadata": {},
   "source": [
    "# Resultados"
   ]
  },
  {
   "cell_type": "code",
   "execution_count": 41,
   "metadata": {},
   "outputs": [
    {
     "name": "stdout",
     "output_type": "stream",
     "text": [
      "Los valores propios de la matriz A son:\n",
      "[1.    0.441 0.159]\n"
     ]
    }
   ],
   "source": [
    "valores_propios = np.linalg.eigvals(A)\n",
    "\n",
    "print(\"Los valores propios de la matriz A son:\")\n",
    "print(np.round(valores_propios,3))"
   ]
  },
  {
   "cell_type": "code",
   "execution_count": 42,
   "metadata": {},
   "outputs": [
    {
     "data": {
      "text/html": [
       "<div>\n",
       "<style scoped>\n",
       "    .dataframe tbody tr th:only-of-type {\n",
       "        vertical-align: middle;\n",
       "    }\n",
       "\n",
       "    .dataframe tbody tr th {\n",
       "        vertical-align: top;\n",
       "    }\n",
       "\n",
       "    .dataframe thead th {\n",
       "        text-align: right;\n",
       "    }\n",
       "</style>\n",
       "<table border=\"1\" class=\"dataframe\">\n",
       "  <thead>\n",
       "    <tr style=\"text-align: right;\">\n",
       "      <th></th>\n",
       "      <th>i</th>\n",
       "      <th>Vi</th>\n",
       "      <th>||Vi||</th>\n",
       "      <th>||Vi||/||Vi-1||</th>\n",
       "    </tr>\n",
       "  </thead>\n",
       "  <tbody>\n",
       "    <tr>\n",
       "      <th>0</th>\n",
       "      <td>1</td>\n",
       "      <td>[0.44, 0.36, 0.2]</td>\n",
       "      <td>0.6027</td>\n",
       "      <td>NaN</td>\n",
       "    </tr>\n",
       "    <tr>\n",
       "      <th>1</th>\n",
       "      <td>2</td>\n",
       "      <td>[0.392, 0.392, 0.216]</td>\n",
       "      <td>0.5950</td>\n",
       "      <td>0.9872</td>\n",
       "    </tr>\n",
       "    <tr>\n",
       "      <th>2</th>\n",
       "      <td>3</td>\n",
       "      <td>[0.3744, 0.4, 0.2256]</td>\n",
       "      <td>0.5925</td>\n",
       "      <td>0.9959</td>\n",
       "    </tr>\n",
       "    <tr>\n",
       "      <th>3</th>\n",
       "      <td>4</td>\n",
       "      <td>[0.3672, 0.4026, 0.2302]</td>\n",
       "      <td>0.5915</td>\n",
       "      <td>0.9984</td>\n",
       "    </tr>\n",
       "    <tr>\n",
       "      <th>4</th>\n",
       "      <td>5</td>\n",
       "      <td>[0.3641, 0.4035, 0.2324]</td>\n",
       "      <td>0.5911</td>\n",
       "      <td>0.9993</td>\n",
       "    </tr>\n",
       "    <tr>\n",
       "      <th>5</th>\n",
       "      <td>6</td>\n",
       "      <td>[0.3628, 0.4039, 0.2333]</td>\n",
       "      <td>0.5909</td>\n",
       "      <td>0.9997</td>\n",
       "    </tr>\n",
       "    <tr>\n",
       "      <th>6</th>\n",
       "      <td>7</td>\n",
       "      <td>[0.3622, 0.4041, 0.2337]</td>\n",
       "      <td>0.5908</td>\n",
       "      <td>0.9999</td>\n",
       "    </tr>\n",
       "    <tr>\n",
       "      <th>7</th>\n",
       "      <td>8</td>\n",
       "      <td>[0.3619, 0.4042, 0.2339]</td>\n",
       "      <td>0.5908</td>\n",
       "      <td>0.9999</td>\n",
       "    </tr>\n",
       "    <tr>\n",
       "      <th>8</th>\n",
       "      <td>9</td>\n",
       "      <td>[0.3618, 0.4042, 0.234]</td>\n",
       "      <td>0.5908</td>\n",
       "      <td>1.0000</td>\n",
       "    </tr>\n",
       "    <tr>\n",
       "      <th>9</th>\n",
       "      <td>10</td>\n",
       "      <td>[0.3617, 0.4042, 0.234]</td>\n",
       "      <td>0.5907</td>\n",
       "      <td>0.9999</td>\n",
       "    </tr>\n",
       "  </tbody>\n",
       "</table>\n",
       "</div>"
      ],
      "text/plain": [
       "    i                        Vi  ||Vi||  ||Vi||/||Vi-1||\n",
       "0   1         [0.44, 0.36, 0.2]  0.6027              NaN\n",
       "1   2     [0.392, 0.392, 0.216]  0.5950           0.9872\n",
       "2   3     [0.3744, 0.4, 0.2256]  0.5925           0.9959\n",
       "3   4  [0.3672, 0.4026, 0.2302]  0.5915           0.9984\n",
       "4   5  [0.3641, 0.4035, 0.2324]  0.5911           0.9993\n",
       "5   6  [0.3628, 0.4039, 0.2333]  0.5909           0.9997\n",
       "6   7  [0.3622, 0.4041, 0.2337]  0.5908           0.9999\n",
       "7   8  [0.3619, 0.4042, 0.2339]  0.5908           0.9999\n",
       "8   9   [0.3618, 0.4042, 0.234]  0.5908           1.0000\n",
       "9  10   [0.3617, 0.4042, 0.234]  0.5907           0.9999"
      ]
     },
     "execution_count": 42,
     "metadata": {},
     "output_type": "execute_result"
    }
   ],
   "source": [
    "matriz_simetrica_df"
   ]
  },
  {
   "cell_type": "code",
   "execution_count": 43,
   "metadata": {},
   "outputs": [
    {
     "data": {
      "text/html": [
       "<div>\n",
       "<style scoped>\n",
       "    .dataframe tbody tr th:only-of-type {\n",
       "        vertical-align: middle;\n",
       "    }\n",
       "\n",
       "    .dataframe tbody tr th {\n",
       "        vertical-align: top;\n",
       "    }\n",
       "\n",
       "    .dataframe thead th {\n",
       "        text-align: right;\n",
       "    }\n",
       "</style>\n",
       "<table border=\"1\" class=\"dataframe\">\n",
       "  <thead>\n",
       "    <tr style=\"text-align: right;\">\n",
       "      <th></th>\n",
       "      <th>i</th>\n",
       "      <th>Vi</th>\n",
       "      <th>||Vi||</th>\n",
       "      <th>||Vi||/||Vi-1||</th>\n",
       "    </tr>\n",
       "  </thead>\n",
       "  <tbody>\n",
       "    <tr>\n",
       "      <th>1</th>\n",
       "      <td>1</td>\n",
       "      <td>[1.2857, -0.7143, 0.4286]</td>\n",
       "      <td>1.5320e+00</td>\n",
       "      <td>NaN</td>\n",
       "    </tr>\n",
       "    <tr>\n",
       "      <th>2</th>\n",
       "      <td>2</td>\n",
       "      <td>[4.8776, -6.2653, 2.3878]</td>\n",
       "      <td>8.2914e+00</td>\n",
       "      <td>5.4122</td>\n",
       "    </tr>\n",
       "    <tr>\n",
       "      <th>3</th>\n",
       "      <td>3</td>\n",
       "      <td>[25.8688, -40.7843, 15.9155]</td>\n",
       "      <td>5.0851e+01</td>\n",
       "      <td>6.1331</td>\n",
       "    </tr>\n",
       "    <tr>\n",
       "      <th>4</th>\n",
       "      <td>4</td>\n",
       "      <td>[154.4819, -257.3607, 103.8788]</td>\n",
       "      <td>3.1763e+02</td>\n",
       "      <td>6.2463</td>\n",
       "    </tr>\n",
       "    <tr>\n",
       "      <th>5</th>\n",
       "      <td>5</td>\n",
       "      <td>[957.0046, -1620.6022, 664.5975]</td>\n",
       "      <td>1.9960e+03</td>\n",
       "      <td>6.2839</td>\n",
       "    </tr>\n",
       "    <tr>\n",
       "      <th>6</th>\n",
       "      <td>6</td>\n",
       "      <td>[5998.4415, -10211.5804, 4214.139]</td>\n",
       "      <td>1.2570e+04</td>\n",
       "      <td>6.2979</td>\n",
       "    </tr>\n",
       "    <tr>\n",
       "      <th>7</th>\n",
       "      <td>7</td>\n",
       "      <td>[37746.1462, -64373.6582, 26628.512]</td>\n",
       "      <td>7.9233e+04</td>\n",
       "      <td>6.3031</td>\n",
       "    </tr>\n",
       "    <tr>\n",
       "      <th>8</th>\n",
       "      <td>8</td>\n",
       "      <td>[237848.8037, -405891.7782, 168043.9746]</td>\n",
       "      <td>4.9956e+05</td>\n",
       "      <td>6.3050</td>\n",
       "    </tr>\n",
       "    <tr>\n",
       "      <th>9</th>\n",
       "      <td>9</td>\n",
       "      <td>[1499475.8002, -2559445.9822, 1059971.182]</td>\n",
       "      <td>3.1500e+06</td>\n",
       "      <td>6.3056</td>\n",
       "    </tr>\n",
       "    <tr>\n",
       "      <th>10</th>\n",
       "      <td>10</td>\n",
       "      <td>[9454812.0924, -16139651.7297, 6684840.6373]</td>\n",
       "      <td>1.9864e+07</td>\n",
       "      <td>6.3059</td>\n",
       "    </tr>\n",
       "  </tbody>\n",
       "</table>\n",
       "</div>"
      ],
      "text/plain": [
       "     i                                            Vi      ||Vi||  \\\n",
       "1    1                     [1.2857, -0.7143, 0.4286]  1.5320e+00   \n",
       "2    2                     [4.8776, -6.2653, 2.3878]  8.2914e+00   \n",
       "3    3                  [25.8688, -40.7843, 15.9155]  5.0851e+01   \n",
       "4    4               [154.4819, -257.3607, 103.8788]  3.1763e+02   \n",
       "5    5              [957.0046, -1620.6022, 664.5975]  1.9960e+03   \n",
       "6    6            [5998.4415, -10211.5804, 4214.139]  1.2570e+04   \n",
       "7    7          [37746.1462, -64373.6582, 26628.512]  7.9233e+04   \n",
       "8    8      [237848.8037, -405891.7782, 168043.9746]  4.9956e+05   \n",
       "9    9    [1499475.8002, -2559445.9822, 1059971.182]  3.1500e+06   \n",
       "10  10  [9454812.0924, -16139651.7297, 6684840.6373]  1.9864e+07   \n",
       "\n",
       "    ||Vi||/||Vi-1||  \n",
       "1               NaN  \n",
       "2            5.4122  \n",
       "3            6.1331  \n",
       "4            6.2463  \n",
       "5            6.2839  \n",
       "6            6.2979  \n",
       "7            6.3031  \n",
       "8            6.3050  \n",
       "9            6.3056  \n",
       "10           6.3059  "
      ]
     },
     "execution_count": 43,
     "metadata": {},
     "output_type": "execute_result"
    }
   ],
   "source": [
    "matriz_simetrica_pq_df"
   ]
  }
 ],
 "metadata": {
  "kernelspec": {
   "display_name": "base",
   "language": "python",
   "name": "python3"
  },
  "language_info": {
   "codemirror_mode": {
    "name": "ipython",
    "version": 3
   },
   "file_extension": ".py",
   "mimetype": "text/x-python",
   "name": "python",
   "nbconvert_exporter": "python",
   "pygments_lexer": "ipython3",
   "version": "3.11.5"
  }
 },
 "nbformat": 4,
 "nbformat_minor": 2
}

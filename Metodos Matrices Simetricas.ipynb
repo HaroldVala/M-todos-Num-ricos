{
 "cells": [
  {
   "cell_type": "markdown",
   "metadata": {},
   "source": [
    "# Liberias "
   ]
  },
  {
   "cell_type": "code",
   "execution_count": 61,
   "metadata": {},
   "outputs": [],
   "source": [
    "import numpy as np\n",
    "import pandas as pd"
   ]
  },
  {
   "cell_type": "markdown",
   "metadata": {},
   "source": [
    "# Operaciones"
   ]
  },
  {
   "cell_type": "code",
   "execution_count": 62,
   "metadata": {},
   "outputs": [],
   "source": [
    "#Matriz inicial\n",
    "A = np.array([[5, -4],\n",
    "              [-4, 1]])\n",
    "\n",
    "#Vector Inicial\n",
    "V_0 = np.array([[1],\n",
    "                [1]])\n",
    "\n",
    "#Iteraciones\n",
    "n = 6 #Python cuenta desde 0\n",
    "iteraciones = range(1,n)\n",
    "\n",
    "# Iteraciones para potencias negativas\n",
    "iteraciones_pq = range(-1, -n, -1)  # Esto generará una secuencia de -1 a -n"
   ]
  },
  {
   "cell_type": "markdown",
   "metadata": {},
   "source": [
    "# Tabla para encontrar Maximo"
   ]
  },
  {
   "cell_type": "code",
   "execution_count": 63,
   "metadata": {},
   "outputs": [],
   "source": [
    "# Crear un DataFrame vacío para almacenar los resultados\n",
    "matriz_simetrica_df = pd.DataFrame(columns=['i', 'Vi'])"
   ]
  },
  {
   "cell_type": "code",
   "execution_count": 64,
   "metadata": {},
   "outputs": [],
   "source": [
    "for i in iteraciones:\n",
    "    # Elevar la matriz A a la i-ésima potencia\n",
    "    A_i = np.linalg.matrix_power(A, i)\n",
    "    \n",
    "    # Multiplicar la matriz elevada por el vector V_0\n",
    "    resultado = A_i @ V_0\n",
    "    \n",
    "\n",
    "    # Redondear el resultado a 4 decimales y convertirlo a una lista\n",
    "    resultado_redondeado = np.round(resultado.flatten(), 4).tolist()\n",
    "    \n",
    "    # Agregar el resultado al DataFrame\n",
    "    matriz_simetrica_df.loc[i-1] = [i, resultado_redondeado]"
   ]
  },
  {
   "cell_type": "markdown",
   "metadata": {},
   "source": [
    "## Calcular la norma o la magnitud"
   ]
  },
  {
   "cell_type": "markdown",
   "metadata": {},
   "source": [
    "**square** se usa para elevar un numero al cuadrado\n",
    "\n",
    "**sqrt** Se usa para sacar raiz"
   ]
  },
  {
   "cell_type": "code",
   "execution_count": 65,
   "metadata": {},
   "outputs": [],
   "source": [
    "#Función para calcular la norma de un vector\n",
    "def calcular_norma(vector):\n",
    "    return np.sqrt(np.sum(np.square(vector)))\n",
    "\n",
    "# Aplicar la función a cada elemento de la columna \"Vi\" y crear la nueva columna \"||Vi||\"\n",
    "matriz_simetrica_df['||Vi||'] = matriz_simetrica_df['Vi'].apply(calcular_norma)"
   ]
  },
  {
   "cell_type": "markdown",
   "metadata": {},
   "source": [
    "## Relación entre las normas de dos vectores consecutivos"
   ]
  },
  {
   "cell_type": "code",
   "execution_count": 66,
   "metadata": {},
   "outputs": [],
   "source": [
    "matriz_simetrica_df[\"||Vi||/||Vi-1||\"] = matriz_simetrica_df['||Vi||'].div(matriz_simetrica_df['||Vi||'].shift(1))"
   ]
  },
  {
   "cell_type": "markdown",
   "metadata": {},
   "source": [
    "# Valor propio mas pequeño"
   ]
  },
  {
   "cell_type": "code",
   "execution_count": 67,
   "metadata": {},
   "outputs": [],
   "source": [
    "# DataFrame para almacenar los resultados\n",
    "matriz_simetrica_pq_df = pd.DataFrame(columns=['i', 'Vi'])\n",
    "\n",
    "# Bucle para calcular A elevado a la i-ésima potencia negativa y multiplicarlo por V_0\n",
    "for i in iteraciones_pq:\n",
    "    # Elevar la matriz A a la i-ésima potencia negativa\n",
    "    A_i = np.linalg.matrix_power(A, i)\n",
    "    \n",
    "    # Multiplicar la matriz elevada por el vector V_0\n",
    "    resultado = A_i @ V_0\n",
    "    \n",
    "    # Redondear el resultado a 4 decimales y convertirlo a una lista\n",
    "    resultado_redondeado = np.round(resultado.flatten(), 4).tolist()\n",
    "    \n",
    "    # Agregar el resultado al DataFrame\n",
    "    matriz_simetrica_pq_df.loc[-i] = [-i, resultado_redondeado]"
   ]
  },
  {
   "cell_type": "markdown",
   "metadata": {},
   "source": [
    "## Norma o Magnitud"
   ]
  },
  {
   "cell_type": "code",
   "execution_count": 68,
   "metadata": {},
   "outputs": [],
   "source": [
    "#Función para calcular la norma de un vector\n",
    "def calcular_norma(vector):\n",
    "    return np.sqrt(np.sum(np.square(vector)))\n",
    "\n",
    "# Aplicar la función a cada elemento de la columna \"Vi\" y crear la nueva columna \"||Vi||\"\n",
    "matriz_simetrica_pq_df['||Vi||'] = matriz_simetrica_pq_df['Vi'].apply(calcular_norma)"
   ]
  },
  {
   "cell_type": "markdown",
   "metadata": {},
   "source": [
    "## Relacion"
   ]
  },
  {
   "cell_type": "code",
   "execution_count": 69,
   "metadata": {},
   "outputs": [],
   "source": [
    "matriz_simetrica_pq_df[\"||Vi||/||Vi-1||\"] = matriz_simetrica_pq_df['||Vi||'].div(matriz_simetrica_pq_df['||Vi||'].shift(1))"
   ]
  },
  {
   "cell_type": "markdown",
   "metadata": {},
   "source": [
    "# Resultados"
   ]
  },
  {
   "cell_type": "code",
   "execution_count": 70,
   "metadata": {},
   "outputs": [
    {
     "name": "stdout",
     "output_type": "stream",
     "text": [
      "Los valores propios de la matriz A son:\n",
      "[ 7.472 -1.472]\n"
     ]
    }
   ],
   "source": [
    "valores_propios = np.linalg.eigvals(A)\n",
    "\n",
    "print(\"Los valores propios de la matriz A son:\")\n",
    "print(np.round(valores_propios,3))"
   ]
  },
  {
   "cell_type": "code",
   "execution_count": 71,
   "metadata": {},
   "outputs": [
    {
     "data": {
      "text/html": [
       "<div>\n",
       "<style scoped>\n",
       "    .dataframe tbody tr th:only-of-type {\n",
       "        vertical-align: middle;\n",
       "    }\n",
       "\n",
       "    .dataframe tbody tr th {\n",
       "        vertical-align: top;\n",
       "    }\n",
       "\n",
       "    .dataframe thead th {\n",
       "        text-align: right;\n",
       "    }\n",
       "</style>\n",
       "<table border=\"1\" class=\"dataframe\">\n",
       "  <thead>\n",
       "    <tr style=\"text-align: right;\">\n",
       "      <th></th>\n",
       "      <th>i</th>\n",
       "      <th>Vi</th>\n",
       "      <th>||Vi||</th>\n",
       "      <th>||Vi||/||Vi-1||</th>\n",
       "    </tr>\n",
       "  </thead>\n",
       "  <tbody>\n",
       "    <tr>\n",
       "      <th>0</th>\n",
       "      <td>1</td>\n",
       "      <td>[1, -3]</td>\n",
       "      <td>3.162278</td>\n",
       "      <td>NaN</td>\n",
       "    </tr>\n",
       "    <tr>\n",
       "      <th>1</th>\n",
       "      <td>2</td>\n",
       "      <td>[17, -7]</td>\n",
       "      <td>18.384776</td>\n",
       "      <td>5.813777</td>\n",
       "    </tr>\n",
       "    <tr>\n",
       "      <th>2</th>\n",
       "      <td>3</td>\n",
       "      <td>[113, -75]</td>\n",
       "      <td>135.624482</td>\n",
       "      <td>7.376999</td>\n",
       "    </tr>\n",
       "    <tr>\n",
       "      <th>3</th>\n",
       "      <td>4</td>\n",
       "      <td>[865, -527]</td>\n",
       "      <td>1012.893874</td>\n",
       "      <td>7.468370</td>\n",
       "    </tr>\n",
       "    <tr>\n",
       "      <th>4</th>\n",
       "      <td>5</td>\n",
       "      <td>[6433, -3987]</td>\n",
       "      <td>7568.332577</td>\n",
       "      <td>7.471990</td>\n",
       "    </tr>\n",
       "  </tbody>\n",
       "</table>\n",
       "</div>"
      ],
      "text/plain": [
       "   i             Vi       ||Vi||  ||Vi||/||Vi-1||\n",
       "0  1        [1, -3]     3.162278              NaN\n",
       "1  2       [17, -7]    18.384776         5.813777\n",
       "2  3     [113, -75]   135.624482         7.376999\n",
       "3  4    [865, -527]  1012.893874         7.468370\n",
       "4  5  [6433, -3987]  7568.332577         7.471990"
      ]
     },
     "execution_count": 71,
     "metadata": {},
     "output_type": "execute_result"
    }
   ],
   "source": [
    "matriz_simetrica_df"
   ]
  },
  {
   "cell_type": "code",
   "execution_count": 72,
   "metadata": {},
   "outputs": [
    {
     "data": {
      "text/html": [
       "<div>\n",
       "<style scoped>\n",
       "    .dataframe tbody tr th:only-of-type {\n",
       "        vertical-align: middle;\n",
       "    }\n",
       "\n",
       "    .dataframe tbody tr th {\n",
       "        vertical-align: top;\n",
       "    }\n",
       "\n",
       "    .dataframe thead th {\n",
       "        text-align: right;\n",
       "    }\n",
       "</style>\n",
       "<table border=\"1\" class=\"dataframe\">\n",
       "  <thead>\n",
       "    <tr style=\"text-align: right;\">\n",
       "      <th></th>\n",
       "      <th>i</th>\n",
       "      <th>Vi</th>\n",
       "      <th>||Vi||</th>\n",
       "      <th>||Vi||/||Vi-1||</th>\n",
       "    </tr>\n",
       "  </thead>\n",
       "  <tbody>\n",
       "    <tr>\n",
       "      <th>1</th>\n",
       "      <td>1</td>\n",
       "      <td>[-0.4545, -0.8182]</td>\n",
       "      <td>0.935960</td>\n",
       "      <td>NaN</td>\n",
       "    </tr>\n",
       "    <tr>\n",
       "      <th>2</th>\n",
       "      <td>2</td>\n",
       "      <td>[0.3388, 0.5372]</td>\n",
       "      <td>0.635114</td>\n",
       "      <td>0.678569</td>\n",
       "    </tr>\n",
       "    <tr>\n",
       "      <th>3</th>\n",
       "      <td>3</td>\n",
       "      <td>[-0.2261, -0.3674]</td>\n",
       "      <td>0.431398</td>\n",
       "      <td>0.679245</td>\n",
       "    </tr>\n",
       "    <tr>\n",
       "      <th>4</th>\n",
       "      <td>4</td>\n",
       "      <td>[0.1542, 0.2492]</td>\n",
       "      <td>0.293050</td>\n",
       "      <td>0.679303</td>\n",
       "    </tr>\n",
       "    <tr>\n",
       "      <th>5</th>\n",
       "      <td>5</td>\n",
       "      <td>[-0.1046, -0.1693]</td>\n",
       "      <td>0.199007</td>\n",
       "      <td>0.679088</td>\n",
       "    </tr>\n",
       "  </tbody>\n",
       "</table>\n",
       "</div>"
      ],
      "text/plain": [
       "   i                  Vi    ||Vi||  ||Vi||/||Vi-1||\n",
       "1  1  [-0.4545, -0.8182]  0.935960              NaN\n",
       "2  2    [0.3388, 0.5372]  0.635114         0.678569\n",
       "3  3  [-0.2261, -0.3674]  0.431398         0.679245\n",
       "4  4    [0.1542, 0.2492]  0.293050         0.679303\n",
       "5  5  [-0.1046, -0.1693]  0.199007         0.679088"
      ]
     },
     "execution_count": 72,
     "metadata": {},
     "output_type": "execute_result"
    }
   ],
   "source": [
    "matriz_simetrica_pq_df"
   ]
  }
 ],
 "metadata": {
  "kernelspec": {
   "display_name": "base",
   "language": "python",
   "name": "python3"
  },
  "language_info": {
   "codemirror_mode": {
    "name": "ipython",
    "version": 3
   },
   "file_extension": ".py",
   "mimetype": "text/x-python",
   "name": "python",
   "nbconvert_exporter": "python",
   "pygments_lexer": "ipython3",
   "version": "3.11.5"
  }
 },
 "nbformat": 4,
 "nbformat_minor": 2
}
